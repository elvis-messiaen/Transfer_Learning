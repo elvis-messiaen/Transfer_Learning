{
 "cells": [
  {
   "metadata": {},
   "cell_type": "raw",
   "source": "",
   "id": "234bfda61b7414f8"
  },
  {
   "metadata": {},
   "cell_type": "markdown",
   "source": [
    "## L'équipe  en médecine pour la detection des pneumonie fait cela depuis des radio thoraciques.\n",
    "##### Les besoins d'automatisé cette action  et de rendre les prédiction de cas sont indispensable.\n",
    "##### la réalisation d'un POC sera proposé afin de répondre aux besoins qui sera constitué de :\n",
    "* utilisation du Transfert Learning pour la mise en place des predictions\n",
    "* Utilisation de CNN sur les modèles de Transfert Learning pour réduire les coups et améliorer les performances\n",
    "* Mise en place du projet sur GitHub pour avoir un versionning et l'accessibilité à l'application\n",
    "* Utilisation de MLOps\n",
    "* Mise en place de l'historique afin d'assurer les archives sur les tests effectués\n",
    "* La préparation de notre Dataset pour assurer la pertinence de données pour le modèle\n",
    "* La représentation de différents graphiques afin de mettre en évidence les tests et résultats\n",
    "* Un .gitignore pour évider de mettre dans le repos distant les librairies, Frameworks utilisés\n",
    "* Un README.MD afin d'expliquer le projet, les tests et la mise en place de l'application"
   ],
   "id": "58ebef19ad439074"
  },
  {
   "metadata": {},
   "cell_type": "markdown",
   "source": [
    "### Monté en compétence sur les parties de l'utilisation de Transfer Learning\n",
    "##### Le but de l'utilisation du Transfer Learning permettras d'optimiser le travail sur les parties de l'utilisation des réseau de neuronnes\n",
    "##### Le fait d'utilisation des modèles déja existants et perfomant évite d'avoir a stocker une quantitée importante de données\n",
    "##### Cela pévite en autre le sur apprentissage qui rendrais notre modèle mon éfficace\n",
    "##### le coup de cette tâches est très couteuse en terme de  temps et de resources mêmoires du pc.\n",
    "##### Il existe déjà des modéles qui sont pertinant et répondre à notre besoins. Ils sera donc plus judicieux de les utiliser afin d'avoir de meileurs performance de prédiction pour la  detection de pneumonies"
   ],
   "id": "2b68c35b672e0724"
  },
  {
   "metadata": {},
   "cell_type": "markdown",
   "source": [
    "#### Choix de notre modéle de Transfert Learning\n",
    "#### Le choix sera fait en fonction\n",
    "* L'accurancy obtenu\n",
    "* Le loss\n",
    "* le temps d'execution\n",
    "* le coup en terme de données\n",
    "* il faudras faire des test de perfomance pour determiner quelle modèle réponds le plus au critére d'acceptations\n",
    "* mise en place de l'hitorique des tests sur les fifférents modèles"
   ],
   "id": "26215cc51c737b8"
  },
  {
   "metadata": {},
   "cell_type": "markdown",
   "source": "",
   "id": "725f41410d304b24"
  }
 ],
 "metadata": {
  "kernelspec": {
   "display_name": "Python 3",
   "language": "python",
   "name": "python3"
  },
  "language_info": {
   "codemirror_mode": {
    "name": "ipython",
    "version": 2
   },
   "file_extension": ".py",
   "mimetype": "text/x-python",
   "name": "python",
   "nbconvert_exporter": "python",
   "pygments_lexer": "ipython2",
   "version": "2.7.6"
  }
 },
 "nbformat": 4,
 "nbformat_minor": 5
}
